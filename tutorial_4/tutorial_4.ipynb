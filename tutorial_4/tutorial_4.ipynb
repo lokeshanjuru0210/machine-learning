{
 "metadata": {
  "language_info": {
   "codemirror_mode": {
    "name": "ipython",
    "version": 3
   },
   "file_extension": ".py",
   "mimetype": "text/x-python",
   "name": "python",
   "nbconvert_exporter": "python",
   "pygments_lexer": "ipython3",
   "version": 3
  },
  "orig_nbformat": 2
 },
 "nbformat": 4,
 "nbformat_minor": 2,
 "cells": [
  {
   "cell_type": "code",
   "execution_count": null,
   "metadata": {},
   "outputs": [],
   "source": [
    "import matplotlib.pyplot as plt\n",
    "import math\n",
    "from scipy.stats import norm\n",
    "import numpy as np\n",
    "from scipy.stats import multivariate_normal\n",
    "import seaborn as sns\n",
    "import random "
   ]
  },
  {
   "cell_type": "code",
   "execution_count": null,
   "metadata": {},
   "outputs": [],
   "source": [
    "x=np.linspace(-1,1,10)\n",
    "def incoming_dataset():\n",
    "    y=0.5*x-0.3\n",
    "    t=y+np.random.normal(0,0.2,10)\n",
    "    return t\n",
    "\n",
    "\n",
    "sample_pts=incoming_dataset()\n",
    "plt.scatter(x, sample_pts)\n",
    "plt.plot(x, 0.5 * x-0.3, c=\"green\")"
   ]
  },
  {
   "cell_type": "code",
   "execution_count": null,
   "metadata": {},
   "outputs": [],
   "source": [
    "def line(x, w0, w1):\n",
    "    return w0 + w1*x\n",
    "    \n",
    "def probability(y, x, w0, w1):\n",
    "    k = math.sqrt(np.pi * 2) * 0.2\n",
    "    p=k * np.exp(-0.5 * ((y - line(x, w0, w1))/0.2) ** 2)\n",
    "    return p;\n",
    "\n",
    "def posteriori(s0, m0, fi, beta, t):\n",
    "    s0inv = np.linalg.inv(s0)\n",
    "    sN = np.linalg.inv(s0inv + beta * fi.T@fi)\n",
    "    inner_term = s0inv@(m0.reshape((2, 1))) + beta * fi.T * t\n",
    "    mN = sN@inner_term\n",
    "    return mN.reshape((1, 2))[0],sN\n",
    "\n",
    "w0, w1 = np.meshgrid(np.linspace(-1, 1, 100), np.linspace(-1, 1, 100))\n",
    "prior_grd = multivariate_normal([0, 0], [[0.5, 0], [0, 0.5]])\n",
    "plt.contourf(w0, w1, prior_grd.pdf(np.dstack((w0, w1))),cmap=\"PuOr\")"
   ]
  },
  {
   "cell_type": "code",
   "execution_count": null,
   "metadata": {},
   "outputs": [],
   "source": [
    "fig, axes = plt.subplots(10, 3, figsize=(15, 25))\n",
    "count = 0\n",
    "prior_grd = prior_grd.pdf(np.dstack((w0, w1)))\n",
    "m0, s0 = np.array([0, 0]), np.array([[0.5, 0], [0, 0.5]])\n",
    "beta = 25\n",
    "new_x, new_y = [], []\n",
    "\n",
    "for i, j in zip(x, sample_pts):\n",
    "    likelihood = probability(j, i, w0, w1)\n",
    "    posterior = prior_grd * likelihood\n",
    "    prior_grd = posterior\n",
    "    fi = np.array([1, i]).reshape((1, 2))\n",
    "    m0, s0 = posteriori(s0, m0, fi, beta, j)\n",
    "    distr = multivariate_normal.rvs(m0, s0, 10)\n",
    "    new_x.append(i)\n",
    "    new_y.append(j)\n",
    "    \n",
    "    axes[count, 0].contourf(w0, w1, likelihood, cmap=\"PuOr\")\n",
    "    axes[count, 1].contourf(w0, w1, posterior, cmap=\"PuOr\")\n",
    "    for l in distr:\n",
    "        axes[count, 2].plot(x, l[0] + l[1] * x, c=\"green\")\n",
    "    axes[count, 2].scatter(new_x, new_y)\n",
    "    count += 1"
   ]
  },
  {
   "cell_type": "code",
   "execution_count": null,
   "metadata": {},
   "outputs": [],
   "source": [
    "fig1, axes1 = plt.subplots(1, 3, figsize=(14, 3))\n",
    "axes1[0].contourf(w0, w1, likelihood, cmap=\"PuOr\")\n",
    "axes1[0].scatter(-0.3, 0.5, c=\"black\", marker=\"+\")\n",
    "axes1[1].contourf(w0, w1, posterior, cmap=\"PuOr\")\n",
    "axes1[1].scatter(-0.3, 0.5, c=\"black\", marker=\"+\")\n",
    "for l in distr:\n",
    "    axes1[2].plot(x, l[0] + l[1] * x, c=\"green\")\n",
    "axes1[2].scatter(new_x, new_y)"
   ]
  }
 ]
}